{
  "nbformat": 4,
  "nbformat_minor": 0,
  "metadata": {
    "colab": {
      "name": "Code07-04.ipynb",
      "provenance": [],
      "authorship_tag": "ABX9TyO1iXPsbNhUT9njFxic/KdC",
      "include_colab_link": true
    },
    "kernelspec": {
      "name": "python3",
      "display_name": "Python 3"
    },
    "language_info": {
      "name": "python"
    }
  },
  "cells": [
    {
      "cell_type": "markdown",
      "metadata": {
        "id": "view-in-github",
        "colab_type": "text"
      },
      "source": [
        "<a href=\"https://colab.research.google.com/github/Calcious98/Calcious98/blob/master/Code07_04.ipynb\" target=\"_parent\"><img src=\"https://colab.research.google.com/assets/colab-badge.svg\" alt=\"Open In Colab\"/></a>"
      ]
    },
    {
      "cell_type": "markdown",
      "source": [
        "함수"
      ],
      "metadata": {
        "id": "_7NuPtnqsr2U"
      }
    },
    {
      "cell_type": "code",
      "execution_count": 1,
      "metadata": {
        "id": "y2gqRrZWsoUB"
      },
      "outputs": [],
      "source": [
        "def isQueueFull():\n",
        "  global SIZE, queue, front, rear\n",
        "  if (rear != SIZE-1):\n",
        "    return False\n",
        "  elif (rear == SIZE-1 and front == -1):\n",
        "    return True\n",
        "  else:\n",
        "    for i in range(front+1, SIZE):\n",
        "      queue[i-1] = queue[i] # 손님을 한칸 앞으로\n",
        "      queue[i] = None\n",
        "    front -= 1\n",
        "    rear -= 1\n",
        "    return False"
      ]
    },
    {
      "cell_type": "code",
      "source": [
        "def enQueue(data):\n",
        "  global SIZE, queue, front, rear\n",
        "  if (isQueueFull()):\n",
        "    print(\"큐 꽉\")\n",
        "    return\n",
        "  rear += 1\n",
        "  queue[rear] = data"
      ],
      "metadata": {
        "id": "_rlGihJ4tKHV"
      },
      "execution_count": 2,
      "outputs": []
    },
    {
      "cell_type": "code",
      "source": [
        "def isQueueEmpty():\n",
        "  global SIZE, queue, front, rear\n",
        "  if (rear == front):\n",
        "    return True\n",
        "  else:\n",
        "    return False"
      ],
      "metadata": {
        "id": "WUfjCvloswB4"
      },
      "execution_count": 3,
      "outputs": []
    },
    {
      "cell_type": "code",
      "source": [
        "def deQueue():\n",
        "  global SIZE, queue, front, rear\n",
        "  if (isQueueEmpty()):\n",
        "    return None\n",
        "  front += 1\n",
        "  data = queue[front]\n",
        "  queue[front] = None\n",
        "  data"
      ],
      "metadata": {
        "id": "dFn0pgdcvGdP"
      },
      "execution_count": 4,
      "outputs": []
    },
    {
      "cell_type": "code",
      "source": [
        "def peek():\n",
        "  global SIZE, queue, front, rear\n",
        "  if (isQueueEmpty()):\n",
        "    print(\"큐 텅~\")\n",
        "    return None\n",
        "  return queue[front+1]"
      ],
      "metadata": {
        "id": "L1OHoTrAwZOF"
      },
      "execution_count": 5,
      "outputs": []
    },
    {
      "cell_type": "markdown",
      "source": [
        "변수"
      ],
      "metadata": {
        "id": "JtuoX3Uhsr5Q"
      }
    },
    {
      "cell_type": "code",
      "source": [
        "SIZE = 5\n",
        "queue = [ None for _ in range(SIZE)]\n",
        "front = rear = -1"
      ],
      "metadata": {
        "id": "jGEUouUhswgW"
      },
      "execution_count": 6,
      "outputs": []
    },
    {
      "cell_type": "markdown",
      "source": [
        "메인"
      ],
      "metadata": {
        "id": "j0P3uyfqsr8K"
      }
    },
    {
      "cell_type": "code",
      "source": [
        "enQueue('화사')\n",
        "enQueue('솔라')\n",
        "enQueue('문별')\n",
        "enQueue('휘인')\n",
        "enQueue('선미')"
      ],
      "metadata": {
        "id": "HI4E8ZN0sven"
      },
      "execution_count": 7,
      "outputs": []
    },
    {
      "cell_type": "code",
      "source": [
        "print('[출구]<--', queue, '<--[입구]')"
      ],
      "metadata": {
        "colab": {
          "base_uri": "https://localhost:8080/"
        },
        "id": "vINBkkgEt0Rz",
        "outputId": "d93bae3e-dd95-45a0-d342-ef93b4db156f"
      },
      "execution_count": 8,
      "outputs": [
        {
          "output_type": "stream",
          "name": "stdout",
          "text": [
            "[출구]<-- ['화사', '솔라', '문별', '휘인', '선미'] <--[입구]\n"
          ]
        }
      ]
    },
    {
      "cell_type": "code",
      "source": [
        "#enQueue('방탄')\n",
        "#print('[출구]<--', queue, '<--[입구]')"
      ],
      "metadata": {
        "id": "mko_R3W1t19v"
      },
      "execution_count": 9,
      "outputs": []
    },
    {
      "cell_type": "code",
      "source": [
        "retData = deQueue()\n",
        "print('식사 손님: ', retData)\n",
        "retData = deQueue()\n",
        "print('식사 손님: ', retData)\n",
        "print('[출구]<--', queue, '<--[입구]')\n",
        "enQueue('마마')\n",
        "print('[출구]<--', queue, '<--[입구]')\n",
        "enQueue('마기')\n",
        "print('[출구]<--', queue, '<--[입구]')\n",
        "enQueue('호식')\n",
        "print('[출구]<--', queue, '<--[입구]')"
      ],
      "metadata": {
        "colab": {
          "base_uri": "https://localhost:8080/"
        },
        "id": "RakxYUZht8CL",
        "outputId": "2c8dbc21-0fc0-4858-8e46-2be172a37793"
      },
      "execution_count": 10,
      "outputs": [
        {
          "output_type": "stream",
          "name": "stdout",
          "text": [
            "식사 손님:  None\n",
            "식사 손님:  None\n",
            "[출구]<-- [None, None, '문별', '휘인', '선미'] <--[입구]\n",
            "[출구]<-- [None, '문별', '휘인', '선미', '마마'] <--[입구]\n",
            "[출구]<-- ['문별', '휘인', '선미', '마마', '마기'] <--[입구]\n",
            "큐 꽉\n",
            "[출구]<-- ['문별', '휘인', '선미', '마마', '마기'] <--[입구]\n"
          ]
        }
      ]
    },
    {
      "cell_type": "code",
      "source": [],
      "metadata": {
        "id": "GKaE1Y-lwjW8"
      },
      "execution_count": 10,
      "outputs": []
    }
  ]
}